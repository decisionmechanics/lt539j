{
 "cells": [
  {
   "cell_type": "markdown",
   "id": "6df76809-9418-4305-85d3-cb6bbf060fe9",
   "metadata": {},
   "source": [
    "<img width=\"300px\" src=\"images/learning-tree-logo.svg\" alt=\"Learning Tree logo\" />"
   ]
  },
  {
   "cell_type": "markdown",
   "id": "c79ded8c-0ab4-4658-9b2a-818746766554",
   "metadata": {},
   "source": [
    "# Introduction to Machine Learning"
   ]
  },
  {
   "cell_type": "markdown",
   "id": "2d712cea-a0d2-4f81-9aca-bb3f57e48a05",
   "metadata": {},
   "source": [
    "This course covers the basics of Machine Learning with a focus on classification using supervised learning.\n",
    "\n",
    "Hands-on activities will be undertaken via Jupyter notebooks. The notebooks will be distributed via a public GitHub repository. All datasets will either be in the repository or accessible via public links to their primary sources."
   ]
  },
  {
   "cell_type": "markdown",
   "id": "d163303d-8607-4eed-bee1-a407ae364041",
   "metadata": {},
   "source": [
    "## Modules"
   ]
  },
  {
   "attachments": {},
   "cell_type": "markdown",
   "id": "a63a7675-fb6e-4898-81bb-cb7e0ec46465",
   "metadata": {},
   "source": [
    "- Introduction to Machine Learning\n",
    "- Python for Machine Learning\n",
    "- Exploratory Data Analysis (EDA)\n",
    "- Supervised learning algorithms\n",
    "- Model evaluation and validation\n",
    "- Feature engineering"
   ]
  }
 ],
 "metadata": {
  "kernelspec": {
   "display_name": "Python 3 (ipykernel)",
   "language": "python",
   "name": "python3"
  },
  "language_info": {
   "codemirror_mode": {
    "name": "ipython",
    "version": 3
   },
   "file_extension": ".py",
   "mimetype": "text/x-python",
   "name": "python",
   "nbconvert_exporter": "python",
   "pygments_lexer": "ipython3",
   "version": "3.11.10"
  }
 },
 "nbformat": 4,
 "nbformat_minor": 5
}
