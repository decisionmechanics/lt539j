{
 "cells": [
  {
   "cell_type": "markdown",
   "id": "b4a2c4bc-c4ad-464b-9599-7b96347d9451",
   "metadata": {},
   "source": [
    "<img width=\"300px\" src=\"images/learning-tree-logo.svg\" alt=\"Learning Tree logo\" />"
   ]
  },
  {
   "cell_type": "markdown",
   "id": "feacee31-4d21-47ec-be3e-8c34de2d5dcd",
   "metadata": {},
   "source": [
    "# Module 2: Python for Machine Learning"
   ]
  },
  {
   "attachments": {},
   "cell_type": "markdown",
   "id": "306d365c-c9c5-448a-ba4a-f03fcaef54f3",
   "metadata": {},
   "source": [
    "In this module, we cover\n",
    "\n",
    "- Introduction to the Python programming language\n",
    "- Basics of Python programming\n",
    "- Popular data science libraries\n",
    "- Hands-on exploration of a realistic dataset"
   ]
  },
  {
   "cell_type": "markdown",
   "id": "5670de3f-6932-475f-ae7d-feb2dd6bb150",
   "metadata": {},
   "source": [
    "The [notebooks](https://github.com/decisionmechanics/lt539j) for the course are available on GitHub. Clone or download them to follow along."
   ]
  },
  {
   "cell_type": "markdown",
   "id": "08379bb4-8a37-4ed7-b658-3fe609c655eb",
   "metadata": {},
   "source": [
    "In this notebook, we make use of the following third-party packages.\n",
    "\n",
    "```bash\n",
    "pip install jupyterlab numpy 'polars[all]' ydata-profiling\n",
    "```"
   ]
  },
  {
   "cell_type": "markdown",
   "id": "57134951-716e-4648-ba9e-fd6885a4af0d",
   "metadata": {},
   "source": [
    "## Variables and data types"
   ]
  },
  {
   "cell_type": "markdown",
   "id": "cfeb851f-22f0-4ef5-945a-b9b7a3ada890",
   "metadata": {},
   "source": [
    "Python is a strongly, dyanmically typed language. There's no need to declare the types of variables before you use them."
   ]
  },
  {
   "cell_type": "code",
   "execution_count": null,
   "id": "248e8b73-2272-44ce-8d6c-014748e6e4e3",
   "metadata": {},
   "outputs": [],
   "source": [
    "meaning_of_life = 42  # int\n",
    "pi = 3.14  # float\n",
    "capital_of_france = \"Paris\"  # str\n",
    "two_is_even = True  # bool"
   ]
  },
  {
   "cell_type": "markdown",
   "id": "4590bfc3-2909-4efd-ab49-9df68a3d3a75",
   "metadata": {},
   "source": [
    "Variables can be reassigned---even to values of different types."
   ]
  },
  {
   "cell_type": "code",
   "execution_count": null,
   "id": "4b62de69-e0fa-4171-8c83-cbce3a44183b",
   "metadata": {},
   "outputs": [],
   "source": [
    "meaning_of_life = \"Living each day to the max!\""
   ]
  },
  {
   "cell_type": "markdown",
   "id": "1862b730-72fc-433a-a152-e2f04c2bf362",
   "metadata": {},
   "source": [
    "Values can be printed."
   ]
  },
  {
   "cell_type": "code",
   "execution_count": null,
   "id": "08d44566-7aff-409d-9c59-63fb12a89fa5",
   "metadata": {},
   "outputs": [],
   "source": [
    "print(meaning_of_life)\n",
    "print(meaning_of_life, pi)\n",
    "print(\"The meaning of life is:\", meaning_of_life)"
   ]
  },
  {
   "cell_type": "markdown",
   "id": "acb4ab4f-ad32-474d-ad2c-7b3416706c09",
   "metadata": {},
   "source": [
    "When working with notebooks, the results of evaluating expression (such as individual varibles) are automatically displayed, so you can often avoid using `print` explicitly.\n",
    "\n",
    "This is particularly useful when working with tables and charts."
   ]
  },
  {
   "cell_type": "code",
   "execution_count": null,
   "id": "69350b71-8c5c-4758-9a56-5d1ca0365fa4",
   "metadata": {},
   "outputs": [],
   "source": [
    "meaning_of_life"
   ]
  },
  {
   "cell_type": "markdown",
   "id": "5d426f33-4f53-4c95-acd0-fa0fc023dbd2",
   "metadata": {},
   "source": [
    "## Expressions and operators"
   ]
  },
  {
   "cell_type": "markdown",
   "id": "bcbb19d6-5b39-45e0-9978-9ad86be9e6b4",
   "metadata": {},
   "source": [
    "Python supports the standard arithmetic operators on integers and floating-point values."
   ]
  },
  {
   "cell_type": "code",
   "execution_count": null,
   "id": "c35a8138-bd9e-49be-a09f-00e67d524983",
   "metadata": {},
   "outputs": [],
   "source": [
    "a = 3\n",
    "b = 4\n",
    "\n",
    "a + b  # 7\n",
    "b / a  # 1.333...\n",
    "a**b  # 81\n",
    "b // a  # 1\n",
    "b % a  # 1"
   ]
  },
  {
   "cell_type": "markdown",
   "id": "779ac334-f295-459b-abc5-da9a3a11bc58",
   "metadata": {},
   "source": [
    "Python also supports a number of assignment operators."
   ]
  },
  {
   "cell_type": "code",
   "execution_count": null,
   "id": "1fef92d1-4b75-4c7a-8bf4-8087bb9f2968",
   "metadata": {},
   "outputs": [],
   "source": [
    "a = 1  # 1\n",
    "a += 2  # 3\n",
    "a *= 3  # 9\n",
    "a -= 4  # 5\n",
    "a //= 2  # 2\n",
    "a **= 2  # 4\n",
    "a"
   ]
  },
  {
   "cell_type": "markdown",
   "id": "7f4a0cae-d0a1-4847-9abe-632f46039b39",
   "metadata": {},
   "source": [
    "Operations on integers return integers (apart from true division). Operations on floating-point values return floating-point values."
   ]
  },
  {
   "cell_type": "code",
   "execution_count": null,
   "id": "f7e93803-9640-4f62-82b4-4e93da8bce70",
   "metadata": {},
   "outputs": [],
   "source": [
    "m = 2.5\n",
    "n = 1.5\n",
    "\n",
    "m + n  # 4.0"
   ]
  },
  {
   "cell_type": "markdown",
   "id": "768061e2-d6a0-4c96-80f1-0980b11585b8",
   "metadata": {},
   "source": [
    "We can convert between types."
   ]
  },
  {
   "cell_type": "code",
   "execution_count": null,
   "id": "24d65476-0496-4374-a63a-b86fa24ba9a1",
   "metadata": {},
   "outputs": [],
   "source": [
    "int(4.0)\n",
    "float(4)\n",
    "str(4)\n",
    "float(\"4.5\")"
   ]
  },
  {
   "cell_type": "markdown",
   "id": "cdd4bcb2-f3b3-47d7-b99f-c045bb9b22f8",
   "metadata": {},
   "source": [
    "The built-in `math` module provides more capabilities, such as trigonometric functions."
   ]
  },
  {
   "cell_type": "code",
   "execution_count": null,
   "id": "e61a1381-d644-40a6-ae61-6e0b6ec28504",
   "metadata": {},
   "outputs": [],
   "source": [
    "import math\n",
    "\n",
    "math.sqrt(2)  # 1.414...\n",
    "math.factorial(6)  # 720\n",
    "math.sin(30.0 * math.pi / 180.0)  # ~0.5"
   ]
  },
  {
   "cell_type": "markdown",
   "id": "26e2332d-58c5-42ef-ab82-f39c653e0cc3",
   "metadata": {},
   "source": [
    "Comparison operators create expressions that yield Boolean values. "
   ]
  },
  {
   "cell_type": "code",
   "execution_count": null,
   "id": "2d07596c-5725-443c-a0f0-776fb74237e9",
   "metadata": {},
   "outputs": [],
   "source": [
    "a = 1\n",
    "b = 2\n",
    "c = 3\n",
    "\n",
    "a == b  # False\n",
    "a != b  # True\n",
    "a < b  # True\n",
    "a >= b  # False\n",
    "a < b < c  # True\n",
    "\n",
    "d = False\n",
    "\n",
    "not d  # True"
   ]
  },
  {
   "cell_type": "markdown",
   "id": "6b9a234f-8086-432d-bb86-6645489dafdd",
   "metadata": {},
   "source": [
    "Logical operators can be used to form more complex expressions."
   ]
  },
  {
   "cell_type": "code",
   "execution_count": null,
   "id": "d20f9578-3988-4015-a459-da2084bb0077",
   "metadata": {},
   "outputs": [],
   "source": [
    "age = 17\n",
    "wallet_contains = 10\n",
    "\n",
    "buy_beer = age >= 18 and wallet_contains >= 7\n",
    "obtain_ticket = age <= 12 or wallet_contains >= 10"
   ]
  },
  {
   "cell_type": "markdown",
   "id": "2e53e910-4a23-4db7-89f6-86846ae2e6f7",
   "metadata": {},
   "source": [
    "There are also a number of operations available for strings."
   ]
  },
  {
   "cell_type": "code",
   "execution_count": null,
   "id": "c9666036-f6b4-4daa-b2a5-71a78b292b84",
   "metadata": {},
   "outputs": [],
   "source": [
    "\"1\" + \"1\"  # '11'\n",
    "\"1\" * 4  # '1111'\n",
    "\"abcdefghij\"[2:4]  # 'cd'\n",
    "\"abcdefghij\"[:5]  # 'abcde'\n",
    "\"abcdefghij\"[5:]  # 'fghij'\n",
    "\"abcdefghij\"[-1]  # 'j'\n",
    "\"abcdefghij\"[::-1]  # 'jihgfedcba'\n",
    "\" 1 \".strip()  # '1'"
   ]
  },
  {
   "cell_type": "markdown",
   "id": "03ee74e8-4ba4-401c-af3f-d4c855d2fe3b",
   "metadata": {},
   "source": [
    "There's a built-in `datetime` module for working with dates/times."
   ]
  },
  {
   "cell_type": "code",
   "execution_count": null,
   "id": "b07a1fad-9ea8-4adc-9ca9-761fcdd34a97",
   "metadata": {},
   "outputs": [],
   "source": [
    "import datetime\n",
    "\n",
    "xmas_2024 = datetime.datetime(2024, 12, 25)\n",
    "now = datetime.datetime.now()\n",
    "\n",
    "(xmas_2024 - now).days"
   ]
  },
  {
   "cell_type": "markdown",
   "id": "0ee85673-9824-4644-bbe4-0b95df9f0c55",
   "metadata": {},
   "source": [
    "## Collections"
   ]
  },
  {
   "cell_type": "markdown",
   "id": "9025ff59-9204-4e30-bd8c-dcdc55478e59",
   "metadata": {},
   "source": [
    "Python has powerful built-in collection types.\n",
    "\n",
    "- Lists\n",
    "- Tuples\n",
    "- Sets\n",
    "- Dictionaries"
   ]
  },
  {
   "cell_type": "markdown",
   "id": "e5d2bb5c-fdae-472c-92ca-505b5e9f8a7c",
   "metadata": {},
   "source": [
    "### Lists"
   ]
  },
  {
   "cell_type": "markdown",
   "id": "fad75c79-e5e1-4679-afe9-ea28e8fcc0f9",
   "metadata": {},
   "source": [
    "Lists are the work horses of python data structures. They are similar to arrays in other programming languages."
   ]
  },
  {
   "cell_type": "code",
   "execution_count": null,
   "id": "deb25d9f-6d5a-41e1-a877-e8d9b88bb343",
   "metadata": {
    "scrolled": true
   },
   "outputs": [],
   "source": [
    "primes = [2, 3, 5, 7, 9, 11]\n",
    "primes.append(13)\n",
    "primes += [17]\n",
    "primes"
   ]
  },
  {
   "cell_type": "markdown",
   "id": "0429de47-53fa-4d3a-aab3-1ebf8c7b1ec6",
   "metadata": {},
   "source": [
    "Lists can be sliced."
   ]
  },
  {
   "cell_type": "code",
   "execution_count": null,
   "id": "4388a6f4-6122-440d-a397-683c7d0dadc7",
   "metadata": {},
   "outputs": [],
   "source": [
    "primes[:2]  # [2, 3]\n",
    "primes[-2:]  # [13, 17]"
   ]
  },
  {
   "cell_type": "markdown",
   "id": "2772a9a4-b0ee-4e4b-a169-ec37eea029de",
   "metadata": {},
   "source": [
    "We can also use sequence unpacking (destructuring, pattern matching)."
   ]
  },
  {
   "cell_type": "code",
   "execution_count": null,
   "id": "237d1fff-2f79-4f2e-8a71-f84aa44219a8",
   "metadata": {},
   "outputs": [],
   "source": [
    "[first_prime, second_prime, *other_primes, last_prime] = primes\n",
    "\n",
    "print(first_prime, second_prime, last_prime)"
   ]
  },
  {
   "cell_type": "markdown",
   "id": "8c52d215-479b-4fcd-9c24-f2f9fbf2434e",
   "metadata": {},
   "source": [
    "Lists are mutable."
   ]
  },
  {
   "cell_type": "code",
   "execution_count": null,
   "id": "35acba07-c385-4d1a-b7e0-bd605dc9f8ca",
   "metadata": {},
   "outputs": [],
   "source": [
    "odd_primes = list(primes)\n",
    "odd_primes[0] = 0\n",
    "odd_primes.remove(0)\n",
    "odd_primes"
   ]
  },
  {
   "cell_type": "markdown",
   "id": "b3cf8de4-b702-4063-864a-3a73ebbe9805",
   "metadata": {},
   "source": [
    "Lists can be hetrogeneous."
   ]
  },
  {
   "cell_type": "code",
   "execution_count": null,
   "id": "6b401543-013d-4046-af28-260b05caec83",
   "metadata": {},
   "outputs": [],
   "source": [
    "[\n",
    "    42,\n",
    "    \"cat\",\n",
    "    datetime.datetime.now(),\n",
    "    3.14,\n",
    "    False,\n",
    "    [2, 3, 5, 7, 11],\n",
    "]"
   ]
  },
  {
   "cell_type": "markdown",
   "id": "5bef3fd7-ab13-42e7-ac4c-e2f0444b68bf",
   "metadata": {},
   "source": [
    "### Tuples"
   ]
  },
  {
   "cell_type": "markdown",
   "id": "baeb561f-5b06-46b9-bec4-3f94f9c41d1a",
   "metadata": {},
   "source": [
    "Tuples are similar to lists, but immutable."
   ]
  },
  {
   "cell_type": "code",
   "execution_count": null,
   "id": "24bd1c35-8616-45cc-8330-d5f1f98be10f",
   "metadata": {},
   "outputs": [],
   "source": [
    "primes = (2, 3, 5, 7, 11)\n",
    "# primes[0] = 0"
   ]
  },
  {
   "cell_type": "markdown",
   "id": "fbf3fe0f-f4c5-40cd-b405-3b29c8eea162",
   "metadata": {},
   "source": [
    "### Sets"
   ]
  },
  {
   "cell_type": "markdown",
   "id": "2af067c4-dbaa-4a6a-9576-e7610a8aca51",
   "metadata": {},
   "source": [
    "Sets allow us to perform set theoretic operations."
   ]
  },
  {
   "cell_type": "code",
   "execution_count": null,
   "id": "ce3c7be9-a503-4aab-b968-839909faefd6",
   "metadata": {},
   "outputs": [],
   "source": [
    "mammals = {\"cat\", \"dog\", \"platypus\", \"kangaroo\", \"echidna\", \"dog\"}\n",
    "mammals"
   ]
  },
  {
   "cell_type": "markdown",
   "id": "77568379-a9d2-4860-b7a6-1789a52580a5",
   "metadata": {},
   "source": [
    "Note that duplicates are removed. Members are either members or not members."
   ]
  },
  {
   "cell_type": "code",
   "execution_count": null,
   "id": "59f256d0-07ef-4ce4-9900-71aa015255a2",
   "metadata": {},
   "outputs": [],
   "source": [
    "egg_layers = {\"duck\", \"echidna\", \"crocodile\", \"platypus\", \"sea turtle\"}\n",
    "\n",
    "egg_laying_mammals = mammals & egg_layers\n",
    "animals = mammals | egg_layers\n",
    "live_birth_mammals = mammals - egg_layers"
   ]
  },
  {
   "cell_type": "markdown",
   "id": "03463b18-5d12-4610-a910-a65baf074fc7",
   "metadata": {},
   "source": [
    "### Dictionaries"
   ]
  },
  {
   "cell_type": "markdown",
   "id": "12b64215-3523-43fe-b836-cc79bbbe3f6c",
   "metadata": {},
   "source": [
    "Dictionaries are associative arrays---also known as hash maps.\n",
    "\n",
    "You add and retrieve values via custom keys"
   ]
  },
  {
   "cell_type": "code",
   "execution_count": null,
   "id": "ba72e167-5c44-4d99-8c85-464b42b54b6d",
   "metadata": {},
   "outputs": [],
   "source": [
    "capitals = {\n",
    "    \"France\": \"Paris\",\n",
    "    \"Germany\": \"Berlin\",\n",
    "    \"Italy\": \"Rome\",\n",
    "    \"Spain\": \"Madrid\",\n",
    "    \"UK\": \"London\",\n",
    "}\n",
    "\n",
    "capitals.get(\"France\")"
   ]
  },
  {
   "cell_type": "markdown",
   "id": "275360ac-1775-4c10-a94d-ce25716d8fca",
   "metadata": {},
   "source": [
    "We can get a list of the keys and/or values from a dictionary."
   ]
  },
  {
   "cell_type": "code",
   "execution_count": null,
   "id": "c3ed7ee8-6dee-4a6e-9de0-cdb8d0a276a0",
   "metadata": {},
   "outputs": [],
   "source": [
    "keys = list(capitals.keys())\n",
    "values = list(capitals.values())\n",
    "\n",
    "keys, values"
   ]
  },
  {
   "cell_type": "markdown",
   "id": "b787f9cb-99ea-4192-b82c-a66aa7d6ce0e",
   "metadata": {},
   "source": [
    "## Control structures"
   ]
  },
  {
   "cell_type": "markdown",
   "id": "93fb18ec-136c-41b6-8ab9-d25990817260",
   "metadata": {},
   "source": [
    "The two major types of control structures are decision-making statements and loops.\n",
    "\n",
    "Decision-making statements are if/then and match statements.\n",
    "\n",
    "Loops are for and while loops."
   ]
  },
  {
   "cell_type": "markdown",
   "id": "5fa622b2-82ac-472f-acf6-c036968908c1",
   "metadata": {},
   "source": [
    "Note that Python use whitespace semantically. It's important to ensure you use it consistently."
   ]
  },
  {
   "cell_type": "markdown",
   "id": "0eb39423-894f-410b-9b7a-06012d434b3c",
   "metadata": {},
   "source": [
    "### If/Then"
   ]
  },
  {
   "cell_type": "code",
   "execution_count": null,
   "id": "a8370c0e-b57e-4aa2-bc74-063363f84395",
   "metadata": {},
   "outputs": [],
   "source": [
    "age = 21\n",
    "\n",
    "if age < 1:\n",
    "    print(\"You are a baby\")\n",
    "elif age < 5:\n",
    "    print(\"You are a toddler\")\n",
    "elif age < 18:\n",
    "    print(\"You are a child\")\n",
    "else:\n",
    "    print(\"You are an adult\")"
   ]
  },
  {
   "cell_type": "markdown",
   "id": "4dd1cc73-3103-4827-aada-9740daf31296",
   "metadata": {},
   "source": [
    "### Match"
   ]
  },
  {
   "cell_type": "code",
   "execution_count": null,
   "id": "84377464-d26b-439a-b4b4-03bc225b4f64",
   "metadata": {},
   "outputs": [],
   "source": [
    "iso_country_code = \"GBR\"\n",
    "\n",
    "match iso_country_code:\n",
    "    case \"DEU\":\n",
    "        print(\"Germany\")\n",
    "    case \"ESP\":\n",
    "        print(\"Spain\")\n",
    "    case \"FRA\":\n",
    "        print(\"France\")\n",
    "    case \"GBR\":\n",
    "        print(\"United Kingdom\")\n",
    "    case \"ITA\":\n",
    "        print(\"Italy\")"
   ]
  },
  {
   "cell_type": "markdown",
   "id": "d1d9ec86-c4ee-41b1-80fa-3369ac4846a9",
   "metadata": {},
   "source": [
    "The `match` statement is very powerful. The above example is only its most basic use. "
   ]
  },
  {
   "cell_type": "markdown",
   "id": "db8b2778-80d7-42f6-9d63-d2914d9c7b5c",
   "metadata": {},
   "source": [
    "### For loops"
   ]
  },
  {
   "cell_type": "code",
   "execution_count": null,
   "id": "a8390343-d7b1-4aeb-9676-94b1f92a59d6",
   "metadata": {},
   "outputs": [],
   "source": [
    "for prime in primes:\n",
    "    print(prime**2)"
   ]
  },
  {
   "cell_type": "code",
   "execution_count": null,
   "id": "2d6f9b0c-a6e9-4bb5-9612-ae0d1a65bbdc",
   "metadata": {},
   "outputs": [],
   "source": [
    "for country, capital in capitals.items():\n",
    "    print(f\"The capital of {country} is {capital}\")"
   ]
  },
  {
   "cell_type": "code",
   "execution_count": null,
   "id": "7f489624-6b8e-4a14-a1cc-99c963777a61",
   "metadata": {},
   "outputs": [],
   "source": [
    "for i in range(10, 0, -1):\n",
    "    print(f\"{i}...\")\n",
    "\n",
    "print(\"Blast off!\")"
   ]
  },
  {
   "cell_type": "markdown",
   "id": "254718d8-192d-4f8e-a63f-a3eb6f596171",
   "metadata": {},
   "source": [
    "### List comprehensions"
   ]
  },
  {
   "cell_type": "markdown",
   "id": "66df92cf-d8e7-4b30-ad5c-12b7d6fe7db2",
   "metadata": {},
   "source": [
    "List comprehensions are syntactic suger for simple for loops that return values."
   ]
  },
  {
   "cell_type": "code",
   "execution_count": null,
   "id": "b5536057-a8b8-4549-807e-9d5c28e4ed1c",
   "metadata": {},
   "outputs": [],
   "source": [
    "primes_squared = [prime**2 for prime in primes]\n",
    "\n",
    "primes_squared"
   ]
  },
  {
   "cell_type": "markdown",
   "id": "aca8b97a-f228-4034-bd06-45e72e591516",
   "metadata": {},
   "source": [
    "Python also supports set and dictionary comprehensions."
   ]
  },
  {
   "cell_type": "markdown",
   "id": "83d1749a-6524-457d-ba12-e709e903a9ac",
   "metadata": {},
   "source": [
    "### While loops"
   ]
  },
  {
   "cell_type": "code",
   "execution_count": null,
   "id": "1a664c06-f363-432c-b1c4-40fa93ad497e",
   "metadata": {},
   "outputs": [],
   "source": [
    "import random\n",
    "\n",
    "while (number := random.randint(1, 10)) != 10:\n",
    "    print(number)"
   ]
  },
  {
   "cell_type": "markdown",
   "id": "993b17fc-532d-454a-a44f-47e3fb18e8da",
   "metadata": {},
   "source": [
    "We can also skip a cycle or terminate a loop early."
   ]
  },
  {
   "cell_type": "code",
   "execution_count": null,
   "id": "5241aa34-8be2-4e2d-87e5-0233962e0052",
   "metadata": {},
   "outputs": [],
   "source": [
    "for i in range(1, 11):\n",
    "    if i == 2:\n",
    "        continue\n",
    "\n",
    "    if i == 7:\n",
    "        break\n",
    "\n",
    "    print(i)"
   ]
  },
  {
   "cell_type": "markdown",
   "id": "72189095-a3c2-4cb9-918b-256a7f8a10ab",
   "metadata": {},
   "source": [
    "## Functions"
   ]
  },
  {
   "cell_type": "markdown",
   "id": "978a71dd-1702-41c0-92bc-c8ec6b865cbe",
   "metadata": {},
   "source": [
    "Functions allow us to package statement up into named units, making the code more managable and facilitating reuse."
   ]
  },
  {
   "cell_type": "code",
   "execution_count": null,
   "id": "18fcf34a-28cd-4478-9612-1be83963f17c",
   "metadata": {},
   "outputs": [],
   "source": [
    "def print_greeting(name=\"Chris\"):\n",
    "    print(f\"Hi, {name}\")\n",
    "\n",
    "\n",
    "print_greeting(\"Alex\")\n",
    "print_greeting()"
   ]
  },
  {
   "cell_type": "markdown",
   "id": "7a152c1f-1436-4937-9d54-c9ed2e1fa407",
   "metadata": {},
   "source": [
    "Functions can return values."
   ]
  },
  {
   "cell_type": "code",
   "execution_count": null,
   "id": "ae2791a1-7a50-4829-b1d6-5d3f79ae3433",
   "metadata": {},
   "outputs": [],
   "source": [
    "def fahrenheit_to_celcius(deg_f):\n",
    "    return (deg_f - 32) * 5 / 9\n",
    "\n",
    "\n",
    "fahrenheit_to_celcius(32), fahrenheit_to_celcius(212)"
   ]
  },
  {
   "cell_type": "markdown",
   "id": "4d5f6ff8-82c9-45be-8950-8ad30688fe2f",
   "metadata": {},
   "source": [
    "## Working with files"
   ]
  },
  {
   "cell_type": "markdown",
   "id": "cc22d30b-0ff3-4655-91d0-77ca847f4a92",
   "metadata": {},
   "source": [
    "There are many ways of working with files. The simplest approach is useless to read the entire file in and process it independently."
   ]
  },
  {
   "cell_type": "code",
   "execution_count": null,
   "id": "51ec08c1-b04f-4af5-8841-1769bf769434",
   "metadata": {},
   "outputs": [],
   "source": [
    "with open(\"data/shark-incidents.csv\") as f:\n",
    "    rows = f.readlines()\n",
    "\n",
    "len(rows)"
   ]
  },
  {
   "cell_type": "markdown",
   "id": "b11be0be-84f8-434c-a63b-38710f6bea27",
   "metadata": {},
   "source": [
    "`with` allows us to use a context manager, which will close the file automatically when the block finishes. This is a best practice."
   ]
  },
  {
   "cell_type": "markdown",
   "id": "22c3bfc2-ea2a-420d-9012-960e343652a0",
   "metadata": {},
   "source": [
    "Similarly, we can write data out to a file."
   ]
  },
  {
   "cell_type": "code",
   "execution_count": null,
   "id": "e55f6638-ee9e-448e-bc39-df28966945fc",
   "metadata": {},
   "outputs": [],
   "source": [
    "data = \"\\n\".join(str(prime) for prime in primes)\n",
    "\n",
    "with open(\"temp/primes.txt\", \"w\") as f:\n",
    "    f.write(data)\n",
    "\n",
    "data"
   ]
  },
  {
   "cell_type": "markdown",
   "id": "bfd36eb6-f861-42b1-895e-f302d4fa985a",
   "metadata": {},
   "source": [
    "## Importing and installing packages"
   ]
  },
  {
   "cell_type": "markdown",
   "id": "07988d23-0258-4b83-baab-32e4ef839168",
   "metadata": {},
   "source": [
    "Most Python distributions come with a set of mandatory standard libraries (e.g. `math`, `random`).\n",
    "\n",
    "You can also install third-party library, from [PyPI](https://pypi.org), using `pip`.\n",
    "\n",
    "```bash\n",
    "pip install numpy\n",
    "```"
   ]
  },
  {
   "cell_type": "markdown",
   "id": "1a676a05-b6be-47e0-904f-7df5d8b62bb3",
   "metadata": {},
   "source": [
    "You need to be cautious when installing third-party packages. Anyone can publish to PyPI, so only install well-known packages. Be careful not to make common typos."
   ]
  },
  {
   "cell_type": "markdown",
   "id": "526764dc-429a-4226-8cdb-51e2448788b1",
   "metadata": {},
   "source": [
    "Once a third-party package is installed, you can them import it to use it."
   ]
  },
  {
   "cell_type": "code",
   "execution_count": null,
   "id": "89d516f7-83bc-4c0b-91a8-6a6a589eb69e",
   "metadata": {},
   "outputs": [],
   "source": [
    "import numpy as np"
   ]
  },
  {
   "cell_type": "markdown",
   "id": "5f736c3b-e091-44e0-960d-d73549ea1d82",
   "metadata": {},
   "source": [
    "You can also import individual items from a package."
   ]
  },
  {
   "cell_type": "code",
   "execution_count": null,
   "id": "4bf0a157-855b-47b9-b8e6-edf8b850af22",
   "metadata": {},
   "outputs": [],
   "source": [
    "from random import randint\n",
    "\n",
    "randint(1, 10)"
   ]
  },
  {
   "cell_type": "markdown",
   "id": "5d6c8335-c710-4f63-9b25-d8355bcad241",
   "metadata": {},
   "source": [
    "## Vectorised calculations using NumPy"
   ]
  },
  {
   "cell_type": "markdown",
   "id": "e91b53d3-2adc-42f7-82f2-1326269fc8c5",
   "metadata": {},
   "source": [
    "Python is a relatively slow programming language. It compensates for this by having an ecosystem of highly optimised libraries for performing key tasks.\n",
    "\n",
    "One very popular library is [NumPy](https://numpy.org). NumPy makes it easy to work with large, multi-dimensional arrays and matrices. It's vectorised, meaning that you can perform operations on entire vectors or matrices using a single operation."
   ]
  },
  {
   "cell_type": "markdown",
   "id": "a4e9f3ab-e2cf-4986-8426-f061e85a4c25",
   "metadata": {},
   "source": [
    "To install NumPy use\n",
    "\n",
    "```bash\n",
    "pip install numpy\n",
    "```"
   ]
  },
  {
   "cell_type": "markdown",
   "id": "f8e7b44d-0c04-4250-b394-080fb136d2cf",
   "metadata": {},
   "source": [
    "It must be imported to use it."
   ]
  },
  {
   "cell_type": "code",
   "execution_count": null,
   "id": "51bfc762-8227-46fc-b195-8b1ebdf8320e",
   "metadata": {},
   "outputs": [],
   "source": [
    "import numpy as np"
   ]
  },
  {
   "cell_type": "code",
   "execution_count": null,
   "id": "ed52066a-1168-4f13-bb2c-7fbde9f1aad0",
   "metadata": {},
   "outputs": [],
   "source": [
    "primes = np.array([2, 3, 5, 7, 11])\n",
    "\n",
    "primes**2"
   ]
  },
  {
   "cell_type": "code",
   "execution_count": null,
   "id": "38852990-7427-4879-9ad9-02ac3d05b7db",
   "metadata": {},
   "outputs": [],
   "source": [
    "a = np.arange(1, 10)\n",
    "m = np.reshape(a, (3, -1))\n",
    "\n",
    "m + 10"
   ]
  },
  {
   "cell_type": "markdown",
   "id": "fb5099a1-fb93-4330-90d2-296e02c5d5c1",
   "metadata": {},
   "source": [
    "NumPy has many functions. Some of the most useful allow use to sample random numbers from known distributions. These can be used to power complex simulations."
   ]
  },
  {
   "cell_type": "code",
   "execution_count": null,
   "id": "1ae2d614-aff6-4a25-94e0-619e7952c0fd",
   "metadata": {},
   "outputs": [],
   "source": [
    "np.random.normal(loc=100, scale=16, size=10)"
   ]
  },
  {
   "cell_type": "markdown",
   "id": "683cd971-53a4-4601-b393-8d2529f61cdc",
   "metadata": {},
   "source": [
    "## Working with tabular data using Polars"
   ]
  },
  {
   "cell_type": "markdown",
   "id": "1dfdaecb-2b93-4853-883c-8ffb28cf0d48",
   "metadata": {},
   "source": [
    "Polars is a library for working with tableau data---such as Excel worksheets or CSV files. Tabluar data is very common in data analysis and ML work.\n",
    "\n",
    "Pandas is another popular Python library for working with tabular data. Polars is faster, can work with larger data files and has a more consistant API.\n",
    "\n",
    "The Python ecosystem is increasingly adding support for Polars. If you find a library that requires a Pandas dataframe back and forth between Polars and Pandas with a single method."
   ]
  },
  {
   "cell_type": "markdown",
   "id": "b2461e1a-b651-4f52-9e62-980e0bd27375",
   "metadata": {},
   "source": [
    "To install Polars use\n",
    "\n",
    "```bash\n",
    "pip install \"polars[all]\"\n",
    "```"
   ]
  },
  {
   "cell_type": "markdown",
   "id": "ca627977-bbe5-47ae-8224-7d84e6cffe7b",
   "metadata": {},
   "source": [
    "It must be imported to use it."
   ]
  },
  {
   "cell_type": "code",
   "execution_count": null,
   "id": "cca04eec-317a-4ed9-b3dd-70f3332930e6",
   "metadata": {},
   "outputs": [],
   "source": [
    "import polars as pl"
   ]
  },
  {
   "cell_type": "markdown",
   "id": "d7c554d9-27bf-43b3-91b4-9eb0e2b2e388",
   "metadata": {},
   "source": [
    "### Reading data"
   ]
  },
  {
   "cell_type": "markdown",
   "id": "af227e96-26ac-47de-896f-f50000e111db",
   "metadata": {},
   "source": [
    "### Data wrangling"
   ]
  },
  {
   "cell_type": "markdown",
   "id": "0c04c65e-957c-440d-ab73-2c14de5d4655",
   "metadata": {},
   "source": [
    "There are six data manipulation verbs we need to master to be able to perform basic data wrangling.\n",
    "\n",
    "- Select (columns/features)\n",
    "- Filter (rows/observations)\n",
    "- Sort (rows/observations)\n",
    "- Mutate (columns/features)\n",
    "- Aggregate (rows/observations)\n",
    "- Group (rows/observations)"
   ]
  },
  {
   "cell_type": "markdown",
   "id": "4137b5c3-fe15-4000-8cfc-d807e571fbc7",
   "metadata": {},
   "source": [
    "We'll illustrate these verbs using GDP data from the World Bank."
   ]
  },
  {
   "cell_type": "code",
   "execution_count": null,
   "id": "850237af-d39a-4a30-b64b-56f05e34a505",
   "metadata": {},
   "outputs": [],
   "source": [
    "gdp_df = pl.read_csv(\"data/world-bank-gdp.csv\")\n",
    "\n",
    "gdp_df"
   ]
  },
  {
   "cell_type": "markdown",
   "id": "4fd19b5e-25d5-4456-95af-07aee5251860",
   "metadata": {},
   "source": [
    "### Select"
   ]
  },
  {
   "cell_type": "markdown",
   "id": "173e2ebd-14e4-4de3-b52c-f5e4d5558d52",
   "metadata": {},
   "source": [
    "Select the country name, year and GDP columns."
   ]
  },
  {
   "cell_type": "code",
   "execution_count": null,
   "id": "48f5adb3-a759-4655-a4b8-cdf62012eb86",
   "metadata": {},
   "outputs": [],
   "source": [
    "gdp_df.select([\"country_name\", \"year\", \"gdp\"])"
   ]
  },
  {
   "cell_type": "markdown",
   "id": "9714960f-356e-409a-97f2-0ce752d98504",
   "metadata": {},
   "source": [
    "### Filter"
   ]
  },
  {
   "cell_type": "markdown",
   "id": "5b4665b3-c460-47ad-a9d3-9442f275b328",
   "metadata": {},
   "source": [
    "Get the GDPs for 2023."
   ]
  },
  {
   "cell_type": "code",
   "execution_count": null,
   "id": "721d9003-f351-4031-8742-efe3a9fe06d1",
   "metadata": {},
   "outputs": [],
   "source": [
    "gdp_df.filter(pl.col(\"year\") == 2023, pl.col(\"gdp\").is_not_null())"
   ]
  },
  {
   "cell_type": "markdown",
   "id": "864f742e-dcc3-400f-a48a-cc427f1125bc",
   "metadata": {},
   "source": [
    "### Sort"
   ]
  },
  {
   "cell_type": "markdown",
   "id": "726fcad0-d7f8-4cd1-b44d-65c350cd26d8",
   "metadata": {},
   "source": [
    "Sort in order of GDP (for 2023)"
   ]
  },
  {
   "cell_type": "code",
   "execution_count": null,
   "id": "cda2dc32-d3bb-4660-9567-d188eea662e0",
   "metadata": {},
   "outputs": [],
   "source": [
    "(gdp_df.filter(pl.col(\"year\") == 2023, pl.col(\"gdp\").is_not_null()).sort(\"gdp\"))"
   ]
  },
  {
   "cell_type": "markdown",
   "id": "26fbe9d1-7598-446a-8dab-c63be586ea8d",
   "metadata": {},
   "source": [
    "### Mutate"
   ]
  },
  {
   "cell_type": "markdown",
   "id": "a0d83f97-c6ad-417a-b69a-aab8732a78ac",
   "metadata": {},
   "source": [
    "Calculate GDP per capita (for 2023)."
   ]
  },
  {
   "cell_type": "code",
   "execution_count": null,
   "id": "1793e9f1-a970-4820-9990-410e4b46e20a",
   "metadata": {},
   "outputs": [],
   "source": [
    "gdp_per_capita_2023_df = gdp_df.filter(\n",
    "    pl.col(\"year\") == 2023, pl.col(\"gdp\").is_not_null()\n",
    ").with_columns((pl.col(\"gdp\") / pl.col(\"population\")).alias(\"gdp_per_capita\"))\n",
    "\n",
    "gdp_per_capita_2023_df.sort(\"gdp_per_capita\")"
   ]
  },
  {
   "cell_type": "markdown",
   "id": "92e1cc2e-e544-43cf-867e-21a2936cbf5b",
   "metadata": {},
   "source": [
    "### Aggregate"
   ]
  },
  {
   "cell_type": "markdown",
   "id": "4163d0de-f533-46df-bd35-effefeb37ff4",
   "metadata": {},
   "source": [
    "Calculate the global average GDP per capita (for 2023)."
   ]
  },
  {
   "cell_type": "code",
   "execution_count": null,
   "id": "473e8df4-b00a-4900-9c67-e0f21019a73c",
   "metadata": {},
   "outputs": [],
   "source": [
    "(gdp_per_capita_2023_df.select(\"gdp_per_capita\").mean())"
   ]
  },
  {
   "cell_type": "markdown",
   "id": "587ef7f5-85b5-43f5-800b-d69ae0c5ec08",
   "metadata": {},
   "source": [
    "### Group"
   ]
  },
  {
   "cell_type": "markdown",
   "id": "793f451d-215f-465f-90ee-874016865152",
   "metadata": {},
   "source": [
    "Calculate average GDP per captia (for 2023) _per region_."
   ]
  },
  {
   "cell_type": "code",
   "execution_count": null,
   "id": "47b815c8-1a5e-4fcd-8bd7-bf53903295c6",
   "metadata": {},
   "outputs": [],
   "source": [
    "(\n",
    "    gdp_per_capita_2023_df.group_by(\"region\")\n",
    "    .agg(pl.col(\"gdp_per_capita\").mean())\n",
    "    .sort(\"gdp_per_capita\")\n",
    ")"
   ]
  },
  {
   "cell_type": "markdown",
   "id": "3ca6098b-7e7d-4437-bff8-94eff6c23425",
   "metadata": {},
   "source": [
    "### Styling tables"
   ]
  },
  {
   "cell_type": "markdown",
   "id": "8b554a60-47ca-4201-88b6-4aadfc2617f9",
   "metadata": {},
   "source": [
    "Styling Polars tables is done using a [Great Tables](https://posit-dev.github.io/great-tables/articles/intro.html) object."
   ]
  },
  {
   "cell_type": "code",
   "execution_count": null,
   "id": "00f84a44-83ed-4f57-8863-abbe1c60bc68",
   "metadata": {},
   "outputs": [],
   "source": [
    "import polars.selectors as cs\n",
    "from great_tables import loc, style\n",
    "\n",
    "(\n",
    "    gdp_per_capita_2023_df.sample(n=20)\n",
    "    .style.tab_header(title=\"GDP by country\", subtitle=\"Based on 2023 values\")\n",
    "    .tab_spanner(\"Income\", cs.starts_with(\"gdp\"))\n",
    "    .cols_label(gdp=\"GDP\", gdp_per_capita=\"GDP/capita\")\n",
    "    .tab_stub(rowname_col=\"country_name\")\n",
    "    .fmt_number([\"gdp\", \"gdp_per_capita\"], decimals=0)\n",
    "    .tab_style(\n",
    "        style.fill(\"yellow\"),\n",
    "        loc.body(\n",
    "            rows=pl.col(\"gdp_per_capita\") > 30_000,\n",
    "        ),\n",
    "    )\n",
    "    .tab_style(\n",
    "        style.text(weight=\"bold\"),\n",
    "        loc.body(columns=\"country_code\"),\n",
    "    )\n",
    "    .tab_source_note(source_note=\"This is only a subset of the countries.\")\n",
    "    .cols_label(\n",
    "        country_code=\"Country code\",\n",
    "        region=\"Region\",\n",
    "        income_group=\"Income group\",\n",
    "        year=\"Year\",\n",
    "        population=\"Population\",\n",
    "    )\n",
    ")"
   ]
  },
  {
   "cell_type": "markdown",
   "id": "8dc23f5c-16f2-4ac6-80ec-daace2570ab7",
   "metadata": {},
   "source": [
    "## Data visualisation"
   ]
  },
  {
   "cell_type": "markdown",
   "id": "2ac96723-3dc1-44ae-81f0-b3784e78102c",
   "metadata": {},
   "source": [
    "Polars has built-in support for creating [Altair](https://altair-viz.github.io/) charts.\n",
    "\n",
    "You can also create charts using [Matplotlib](https://matplotlib.org/) or [Plotly](https://plotly.com/python/) from Polars dataframes."
   ]
  },
  {
   "cell_type": "markdown",
   "id": "4064183f-1243-44e7-a132-5197300ac16c",
   "metadata": {},
   "source": [
    "There are dozens of types of charts we can generate using these libraries. For now, we'll demonstrate four common types.\n",
    "\n",
    "- Bar chart\n",
    "- Pie chart\n",
    "- Scatterplot\n",
    "- Line/Time series chart"
   ]
  },
  {
   "cell_type": "markdown",
   "id": "d69351bb-9195-4912-842d-ae04cfa69b94",
   "metadata": {},
   "source": [
    "Import the `altair` package (installed by Polars) to customise the charts."
   ]
  },
  {
   "cell_type": "code",
   "execution_count": null,
   "id": "8b0578af-2056-467f-afef-e11013a0dcee",
   "metadata": {},
   "outputs": [],
   "source": [
    "import altair as alt"
   ]
  },
  {
   "cell_type": "markdown",
   "id": "e016d029-8e2e-47f5-975a-6ad6943ed54f",
   "metadata": {},
   "source": [
    "### Bar chart"
   ]
  },
  {
   "cell_type": "markdown",
   "id": "c52f006e-9444-4cee-9fa8-c3a6a90650ec",
   "metadata": {},
   "source": [
    "What's the average GDP per region?"
   ]
  },
  {
   "cell_type": "code",
   "execution_count": null,
   "id": "09b3e891-faf9-419d-841b-00cc6463d0ce",
   "metadata": {},
   "outputs": [],
   "source": [
    "(\n",
    "    gdp_df.filter(pl.col(\"year\") == 2023, pl.col(\"gdp\").is_not_null())\n",
    "    .sort(\"gdp\")\n",
    "    .group_by(\"region\")\n",
    "    .agg(pl.col(\"gdp\").mean())\n",
    "    .sort(\"gdp\", descending=True)\n",
    "    .plot.bar(\n",
    "        x=\"gdp\",\n",
    "        y=alt.Y(\"region\", sort=None),\n",
    "    )\n",
    ")"
   ]
  },
  {
   "cell_type": "markdown",
   "id": "3c2fc205-e68d-400a-ad9b-143afb8803ef",
   "metadata": {},
   "source": [
    "### Pie chart"
   ]
  },
  {
   "cell_type": "markdown",
   "id": "1121879e-79fd-4f7d-9dcd-2763c6037939",
   "metadata": {},
   "source": [
    "What’s the average GDP per region (removing North America as an outlier)?"
   ]
  },
  {
   "cell_type": "code",
   "execution_count": null,
   "id": "df1d8c71-0401-46c4-a625-1e78cf4caa6a",
   "metadata": {},
   "outputs": [],
   "source": [
    "(\n",
    "    gdp_df.filter(\n",
    "        pl.col(\"year\") == 2023,\n",
    "        pl.col(\"gdp\").is_not_null(),\n",
    "        pl.col(\"region\") != \"North America\",\n",
    "    )\n",
    "    .sort(\"gdp\")\n",
    "    .group_by(\"region\")\n",
    "    .agg(pl.col(\"gdp\").mean())\n",
    "    .sort(\"gdp\")\n",
    "    .plot.arc(\n",
    "        theta=\"gdp\",\n",
    "        color=\"region\",\n",
    "        order=alt.Order(\"gdp\", sort=\"descending\"),\n",
    "    )\n",
    ")"
   ]
  },
  {
   "cell_type": "markdown",
   "id": "9206c816-e29c-422a-a4d7-643931da8bc7",
   "metadata": {},
   "source": [
    "### Scatterplot"
   ]
  },
  {
   "cell_type": "markdown",
   "id": "f1f95e9b-186d-4a16-912c-4fffb05d2e92",
   "metadata": {},
   "source": [
    "What's the relationship between population and GDP?"
   ]
  },
  {
   "cell_type": "code",
   "execution_count": null,
   "id": "8d6b35a9-96a7-4f9c-beee-16f92e272dee",
   "metadata": {},
   "outputs": [],
   "source": [
    "(\n",
    "    gdp_df.filter(pl.col(\"country_code\") == \"GBR\")\n",
    "    .plot.point(\n",
    "        x=alt.X(\"population\").scale(zero=False),\n",
    "        y=\"gdp\",\n",
    "    )\n",
    "    .properties(\n",
    "        width=500,\n",
    "    )\n",
    ")"
   ]
  },
  {
   "cell_type": "markdown",
   "id": "6f5b5ff8-68b6-4fa8-8ad3-32a0cabec893",
   "metadata": {},
   "source": [
    "### Line/Time series chart"
   ]
  },
  {
   "cell_type": "markdown",
   "id": "55cf9383-af81-491e-9040-1d8f06dfed93",
   "metadata": {},
   "source": [
    "How has the GDP of the UK changed over time?"
   ]
  },
  {
   "cell_type": "code",
   "execution_count": null,
   "id": "a0712cf0-de90-42e6-a5b9-5b1eb8e2fafe",
   "metadata": {},
   "outputs": [],
   "source": [
    "(\n",
    "    gdp_df.filter(pl.col(\"country_code\") == \"GBR\")\n",
    "    .plot.line(\n",
    "        x=\"year\",\n",
    "        y=\"gdp\",\n",
    "    )\n",
    "    .properties(\n",
    "        width=500,\n",
    "    )\n",
    ")"
   ]
  },
  {
   "cell_type": "markdown",
   "id": "803195b1-3841-49c8-b749-f565d1956e17",
   "metadata": {},
   "source": [
    "## Reviewing data quality"
   ]
  },
  {
   "cell_type": "markdown",
   "id": "d410d429-d36c-45fc-9557-e619fa088b92",
   "metadata": {},
   "source": [
    "We can obtain a data quality report."
   ]
  },
  {
   "cell_type": "code",
   "execution_count": null,
   "id": "aa6bd444-7eb0-494e-8460-5bf51c88e594",
   "metadata": {},
   "outputs": [],
   "source": [
    "from ydata_profiling import ProfileReport\n",
    "\n",
    "report = ProfileReport(df=gdp_df.to_pandas(), title=\"GDP data profile\")\n",
    "report.to_file(\"temp/gdp_profile_report.html\")"
   ]
  },
  {
   "attachments": {},
   "cell_type": "markdown",
   "id": "f3d88502-0cd8-454f-af25-54516bc48a46",
   "metadata": {},
   "source": [
    "## Wrangling shark incident data"
   ]
  },
  {
   "cell_type": "markdown",
   "id": "51c41da0-e943-492e-a00b-e73dcdd5cbcc",
   "metadata": {},
   "source": [
    "Let's explore the shark incident data."
   ]
  },
  {
   "cell_type": "code",
   "execution_count": null,
   "id": "e6e91cb3-ee51-4563-8916-9dcde234419f",
   "metadata": {},
   "outputs": [],
   "source": [
    "shark_incident_df = pl.read_csv(\n",
    "    \"data/shark-incidents.csv\", infer_schema_length=None\n",
    ").filter(~pl.all_horizontal(pl.all().is_null()))\n",
    "\n",
    "shark_incident_df"
   ]
  },
  {
   "cell_type": "markdown",
   "id": "72dadd09-b1ff-40cc-9a12-f317ee9f1f3f",
   "metadata": {},
   "source": [
    "Which species of sharks are responsible for the majority of the fatal attacks?"
   ]
  },
  {
   "cell_type": "code",
   "execution_count": null,
   "id": "d809c096-d34f-4904-8088-e477dab4f76f",
   "metadata": {},
   "outputs": [],
   "source": [
    "(\n",
    "    shark_incident_df.rename(\n",
    "        {\n",
    "            \"Shark.common.name\": \"shark_species\",\n",
    "        }\n",
    "    )\n",
    "    .filter(\n",
    "        pl.col(\"shark_species\").is_not_null(),\n",
    "        pl.col(\"Victim.injury\") == \"fatal\",\n",
    "    )\n",
    "    .group_by(\"shark_species\")\n",
    "    .agg(\n",
    "        pl.len().alias(\"fatal_incidents\"),\n",
    "    )\n",
    "    .sort(\"fatal_incidents\", descending=True)\n",
    "    .plot.bar(\n",
    "        x=\"fatal_incidents\",\n",
    "        y=alt.Y(\"shark_species\", sort=None),\n",
    "    )\n",
    ")"
   ]
  },
  {
   "cell_type": "markdown",
   "id": "d23ca182-5376-4c4a-a34c-098b5dc2ca98",
   "metadata": {},
   "source": [
    "Which is the largest shark in the dataset?"
   ]
  },
  {
   "cell_type": "code",
   "execution_count": null,
   "id": "12b1e382-7e9e-4177-b448-d4066379dc58",
   "metadata": {},
   "outputs": [],
   "source": [
    "(\n",
    "    shark_incident_df.select([\"Shark.common.name\", \"Shark.length.m\"])\n",
    "    .drop_nulls()\n",
    "    .sort(\"Shark.length.m\", descending=True)\n",
    "    .head(1)\n",
    ")"
   ]
  },
  {
   "cell_type": "markdown",
   "id": "2609bc88-1934-4cf9-b761-18116655d6f2",
   "metadata": {},
   "source": [
    "What are the average lengths of the different species of shark?"
   ]
  },
  {
   "cell_type": "code",
   "execution_count": null,
   "id": "abd398e3-4586-4d08-8e98-e804962c7ab3",
   "metadata": {},
   "outputs": [],
   "source": [
    "(\n",
    "    shark_incident_df.select([\"Shark.common.name\", \"Shark.length.m\"])\n",
    "    .drop_nulls()\n",
    "    .group_by(\"Shark.common.name\")\n",
    "    .agg(pl.col(\"Shark.length.m\").mean())\n",
    "    .sort(\"Shark.length.m\", descending=True)\n",
    ")"
   ]
  },
  {
   "cell_type": "markdown",
   "id": "b202bea5-5ba3-469c-858c-59fa200f1e33",
   "metadata": {},
   "source": [
    "How have the number of incidents changed over the years?"
   ]
  },
  {
   "cell_type": "code",
   "execution_count": null,
   "id": "26473d35-4274-44cb-8a15-27564f62b958",
   "metadata": {},
   "outputs": [],
   "source": [
    "(\n",
    "    shark_incident_df.with_columns(\n",
    "        pl.col(\"Incident.year\").round_sig_figs(3).alias(\"decade\"),\n",
    "    )\n",
    "    .group_by(\"decade\")\n",
    "    .agg(pl.len().alias(\"incidents\"))\n",
    "    .sort(\"incidents\")\n",
    "    .plot.line(\n",
    "        x=alt.X(\"decade\", title=\"year\"),\n",
    "        y=alt.Y(\"incidents\", title=\"# incidents\"),\n",
    "    )\n",
    "    .properties(\n",
    "        width=500,\n",
    "    )\n",
    ")"
   ]
  },
  {
   "cell_type": "markdown",
   "id": "3c8a66e8-2c03-462c-847c-1bbb6a0781a3",
   "metadata": {},
   "source": [
    "Is there a relationship between the depth of the water and the depth at which the incident occurred?"
   ]
  },
  {
   "cell_type": "code",
   "execution_count": null,
   "id": "ad11a05b-2f8b-4906-96d5-91434118ed87",
   "metadata": {},
   "outputs": [],
   "source": [
    "(\n",
    "    shark_incident_df.rename(\n",
    "        {\n",
    "            \"Total.water.depth.m\": \"water_depth\",\n",
    "            \"Depth.of.incident.m\": \"incident_depth\",\n",
    "        }\n",
    "    )\n",
    "    .plot.point(\n",
    "        x=\"water_depth\",\n",
    "        y=\"incident_depth\",\n",
    "    )\n",
    "    .properties(\n",
    "        width=500,\n",
    "    )\n",
    ")"
   ]
  },
  {
   "cell_type": "markdown",
   "id": "6cf0dfad-9562-403b-98da-248c9eb33487",
   "metadata": {},
   "source": [
    "What's the correlation?"
   ]
  },
  {
   "cell_type": "code",
   "execution_count": null,
   "id": "2959a3d3-bba5-4e8b-91ac-ff4425e3c092",
   "metadata": {},
   "outputs": [],
   "source": [
    "(\n",
    "    shark_incident_df.rename(\n",
    "        {\n",
    "            \"Total.water.depth.m\": \"water_depth\",\n",
    "            \"Depth.of.incident.m\": \"incident_depth\",\n",
    "        }\n",
    "    )\n",
    "    .select(pl.corr(\"water_depth\", \"incident_depth\"))\n",
    "    .item()\n",
    ")"
   ]
  },
  {
   "cell_type": "markdown",
   "id": "acc6c2ac-d11e-451b-a27e-89bc4fcbf7a6",
   "metadata": {},
   "source": [
    "Produce a data quality report."
   ]
  },
  {
   "cell_type": "code",
   "execution_count": null,
   "id": "060001af-6f42-4680-8a0e-1b4662de78b1",
   "metadata": {},
   "outputs": [],
   "source": [
    "report = ProfileReport(df=shark_incident_df.to_pandas(), title=\"Shark incident data profile\")\n",
    "report.to_file(\"temp/shark_incident_profile_report.html\")"
   ]
  }
 ],
 "metadata": {
  "kernelspec": {
   "display_name": "Python 3 (ipykernel)",
   "language": "python",
   "name": "python3"
  },
  "language_info": {
   "codemirror_mode": {
    "name": "ipython",
    "version": 3
   },
   "file_extension": ".py",
   "mimetype": "text/x-python",
   "name": "python",
   "nbconvert_exporter": "python",
   "pygments_lexer": "ipython3",
   "version": "3.11.10"
  }
 },
 "nbformat": 4,
 "nbformat_minor": 5
}
