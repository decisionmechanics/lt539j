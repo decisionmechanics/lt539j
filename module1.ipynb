{
 "cells": [
  {
   "cell_type": "markdown",
   "id": "12d54a7f-bd1f-4c67-bc46-72ba0ad2d855",
   "metadata": {},
   "source": [
    "<img width=\"300px\" src=\"images/learning-tree-logo.svg\" alt=\"Learning Tree logo\" />"
   ]
  },
  {
   "cell_type": "markdown",
   "id": "4378a20c-9d20-4934-b23c-9fb9e4ec0589",
   "metadata": {},
   "source": [
    "# Module 1: Introduction to Machine Learning"
   ]
  },
  {
   "attachments": {},
   "cell_type": "markdown",
   "id": "2a0d673d-d238-4519-ab36-76fb8d94d65b",
   "metadata": {},
   "source": [
    "In this module, we cover\n",
    "\n",
    "- Working with notebooks (e.g. JupyterLab)\n",
    "- Artificial Intelligence (AI) and Machine Learning (ML)\n",
    "- Supervised and unsupervised learning\n",
    "- Overview of regression and classification problems\n",
    "- Tabular ML vs Deep Learning\n",
    "- Hands-on experience with executing a notebook to perform a simple ML task"
   ]
  },
  {
   "cell_type": "markdown",
   "id": "bd5593bf-c89b-4c92-a03b-5c6928a3a176",
   "metadata": {},
   "source": [
    "The [notebooks](https://github.com/decisionmechanics/lt539j) for the course are available on GitHub. Clone or download them to follow along."
   ]
  },
  {
   "cell_type": "markdown",
   "id": "67f798bc-e1f3-4e73-8eb6-47c442daac55",
   "metadata": {},
   "source": [
    "In this notebook, we make use of the following third-party packages.\n",
    "\n",
    "```bash\n",
    "pip install jupyterlab numpy 'polars[all]' scikit-learn\n",
    "```"
   ]
  },
  {
   "cell_type": "markdown",
   "id": "2e141041-fd61-454f-8571-f4ca2a31c49a",
   "metadata": {},
   "source": [
    "## Working with notebooks"
   ]
  },
  {
   "cell_type": "markdown",
   "id": "bbe6f5ea-7dc5-4675-bea5-089c2de4c30c",
   "metadata": {},
   "source": [
    "Notebooks are a popular tool for working with data. They allow code, text and data to be combined in flexible ways.\n",
    "\n",
    "Popular notebooks technologies/tools are\n",
    "\n",
    "- [JupyterLab](https://jupyterlab.readthedocs.io/en/latest/)\n",
    "- [Marimo](https://marimo.io/)\n",
    "- [Quarto](https://quarto.org)\n",
    "- [DataSpell](https://www.jetbrains.com/dataspell/)\n",
    "\n",
    "Alternatives to notebooks are IDEs, such as\n",
    "\n",
    "- [PyCharm](https://www.jetbrains.com/pycharm/)\n",
    "- [Visual Studio Code](https://code.visualstudio.com)\n",
    "\n",
    "Most Python IDEs can work with notebooks, so there's a crossover between the two technologies."
   ]
  },
  {
   "cell_type": "markdown",
   "id": "f6dc5576-8d28-4a8b-8166-8030f29aa3ce",
   "metadata": {},
   "source": [
    "### Setting up a virtual environment"
   ]
  },
  {
   "cell_type": "markdown",
   "id": "4ca5cb47-4174-47aa-8e93-89c750ca132d",
   "metadata": {},
   "source": [
    "Virtual environments aren't essential, but they allow us to isolate projects from each other.\n",
    "\n",
    "![Python environment](https://imgs.xkcd.com/comics/python_environment.png)\n",
    "\n",
    "https://xkcd.com/1987"
   ]
  },
  {
   "cell_type": "markdown",
   "id": "c985e933-539e-4679-bcb2-4c8690f507d5",
   "metadata": {},
   "source": [
    "To create and activate a virtual environment in Mac/Linux use\n",
    "\n",
    "```bash\n",
    "python3 -m venv venv\n",
    "source ./venv/bin/activate\n",
    "```"
   ]
  },
  {
   "cell_type": "markdown",
   "id": "6a7fe281-0a52-4128-b6d9-85b4411972e1",
   "metadata": {},
   "source": [
    "To create and activate a virtual environment in Windows use\n",
    "\n",
    "```bash\n",
    "py -m venv venv\n",
    ".\\venv\\Scripts\\activate\n",
    "```"
   ]
  },
  {
   "cell_type": "markdown",
   "id": "bde7409e-cb89-402d-b696-b04a7796c162",
   "metadata": {},
   "source": [
    "You should see the terminal prompt change to show you are operating in a virtual enviroment.\n",
    "\n",
    "Check the version current version of Python.\n",
    "\n",
    "```bash\n",
    "python --version\n",
    "```"
   ]
  },
  {
   "cell_type": "markdown",
   "id": "40fb752a-aa67-4b7e-9add-4119a6e7da7d",
   "metadata": {},
   "source": [
    "To deactivate the virtual enviroment run the `deactivate` script.\n",
    "\n",
    "```bash\n",
    "deactivate\n",
    "```"
   ]
  },
  {
   "cell_type": "markdown",
   "id": "c287adba-bc12-426a-bb5d-a1c156371c16",
   "metadata": {},
   "source": [
    "### JupyterLab"
   ]
  },
  {
   "cell_type": "markdown",
   "id": "51957adb-5e95-47fe-9cda-39b727faa196",
   "metadata": {},
   "source": [
    "JupyterLab is the most popular notebook technology. As such, it's the one we will use thoughout this course."
   ]
  },
  {
   "cell_type": "markdown",
   "id": "854efdf6-6e19-4b6d-868b-588c51fcf701",
   "metadata": {},
   "source": [
    "To install JupyterLab (with a virtual environment active) use\n",
    "\n",
    "```bash\n",
    "pip install jupyterlab\n",
    "```"
   ]
  },
  {
   "cell_type": "markdown",
   "id": "ed38bdfd-1744-4c44-9261-b3c479fa1c68",
   "metadata": {},
   "source": [
    "To start JupyterLab, navigate to the folder containing your notebooks (or the folder where you'd like any new notebooks to be) and run\n",
    "\n",
    "```bash\n",
    "jupyter lab\n",
    "```\n",
    "\n",
    "This will run the engine and launch a browser window. JupyterLab runs in a web browser."
   ]
  },
  {
   "cell_type": "markdown",
   "id": "428b9a46-a323-477b-b59f-17dcdc3b7056",
   "metadata": {},
   "source": [
    "![JupyterLab](images/module1-jupyterlab.png)"
   ]
  },
  {
   "cell_type": "markdown",
   "id": "aab2eb0f-ed2d-40a6-bbd7-4ff060e2bdaf",
   "metadata": {},
   "source": [
    "Create a virtual environment, install JupyterLab and use it to open the notebook for Module 1 (i.e. this notebook).\n",
    "\n",
    "When you `pip install` JupyterLab, add a few additional libraries at the same time.\n",
    "\n",
    "\n",
    "```bash\n",
    "pip install jupyterlab numpy 'polars[all]' scikit-learn\n",
    "```"
   ]
  },
  {
   "cell_type": "markdown",
   "id": "b38cfdc8-bde7-4dc7-b9a1-0830eccd4e3e",
   "metadata": {},
   "source": [
    "### Working with cells"
   ]
  },
  {
   "cell_type": "markdown",
   "id": "0a73a622-1dde-4491-a27b-42bb165dfa58",
   "metadata": {},
   "source": [
    "Notebooks are built from cells. The two most important types of cells are\n",
    "\n",
    "- code cells (containing executable Python code)\n",
    "- markdown cells (containing text, titles, images, etc.)"
   ]
  },
  {
   "cell_type": "markdown",
   "id": "d665e5e0-96e0-403e-9055-6697c391400d",
   "metadata": {},
   "source": [
    "### Python code"
   ]
  },
  {
   "cell_type": "markdown",
   "id": "76ce665c-fb66-43ff-a09b-0754ada4b5c4",
   "metadata": {},
   "source": [
    "Code cells are evalulated and the output is displayed below the cell. There's no need to use `print` to view results.\n",
    "\n",
    "JupyterLab is able to format tabular data and display charts."
   ]
  },
  {
   "cell_type": "markdown",
   "id": "6fa6f359-9a6e-4c89-9b36-7d5d5cd29577",
   "metadata": {},
   "source": [
    "### Markdown"
   ]
  },
  {
   "cell_type": "markdown",
   "id": "ffc1c321-9785-4d89-a563-5a6317114081",
   "metadata": {},
   "source": [
    "[Markdown](https://www.markdownguide.org/cheat-sheet/) is a lightweight text-formatting syntax.\n",
    "\n",
    "Can be used to format\n",
    "\n",
    "- headings\n",
    "- links\n",
    "- images\n",
    "- lists\n",
    "- block quotes\n",
    "- code\n",
    "- bold text\n",
    "- italic text\n",
    "- strikethrough text\n",
    "- horizontal rules"
   ]
  },
  {
   "cell_type": "markdown",
   "id": "a8571118-1445-44d6-98e6-601c852c7c2c",
   "metadata": {},
   "source": [
    "### Shortcuts"
   ]
  },
  {
   "cell_type": "markdown",
   "id": "0bf2c228-7a27-4932-b1a1-9651f33a47c5",
   "metadata": {},
   "source": [
    "JupyterLab can be controlled from the UI, but power users tend to use shortcut keys. Right-click on a cell to display a context menu complete with shortcut keys.\n",
    "\n",
    "Common shortcut keys are\n",
    "\n",
    "- `a`: insert cell above the selected cell\n",
    "- `b`: insert cell below the selected cell\n",
    "- `d`, `d`: delete the selected cell\n",
    "- `m`: change to markdown cell\n",
    "- `y`: change to code cell\n",
    "- `z`: undo changes\n",
    "- `1`-`6`: change cell to markdown heading\n",
    "- `Shift`+`Enter`: execute selected cell"
   ]
  },
  {
   "cell_type": "markdown",
   "id": "172df57e-d766-4b6e-9550-4ea02cf2743c",
   "metadata": {},
   "source": [
    "### Execution order"
   ]
  },
  {
   "cell_type": "markdown",
   "id": "4a6d7c0b-7e57-4392-bdda-9b9ba7fae6d7",
   "metadata": {},
   "source": [
    "Python cells are only executed when you run them. If you run them out of order, you can get confusing results. If in doubt, run all cells from the start."
   ]
  },
  {
   "cell_type": "markdown",
   "id": "8a932695-64e7-4b49-9d2d-137ccccee91c",
   "metadata": {},
   "source": [
    "### Marimo"
   ]
  },
  {
   "cell_type": "markdown",
   "id": "828be468-0a29-4132-a361-1852aa8d81b1",
   "metadata": {},
   "source": [
    "Marimo is an alternative (to JupyterLab) Python notebook environment. Features include\n",
    "\n",
    "- Reactive execution (cells are re-run automatically, as required)\n",
    "- Notebooks are stored as Python files\n",
    "- More developer-oriented experience (e.g. GitHub Copilot, autocomplete, code formatting)"
   ]
  },
  {
   "cell_type": "markdown",
   "id": "5fdbc4da-5139-44b4-affa-281b894f2781",
   "metadata": {},
   "source": [
    "To install Marimo use\n",
    "\n",
    "```bash\n",
    "pip install marimo\n",
    "```"
   ]
  },
  {
   "cell_type": "markdown",
   "id": "f585e774-33a3-4b5b-a34f-9a67d64fc9bf",
   "metadata": {},
   "source": [
    "To launch Marimo, navigate to the folder containing your (Marimo) notebooks and use\n",
    "\n",
    "```bash\n",
    "marimo edit\n",
    "```"
   ]
  },
  {
   "cell_type": "markdown",
   "id": "c686b68d-964d-4073-8f19-331e4b00584a",
   "metadata": {},
   "source": [
    "![Marimo](images/module1-marimo.png)"
   ]
  },
  {
   "cell_type": "markdown",
   "id": "d4a3b1e5-6027-4406-a856-fbe7a7c726fa",
   "metadata": {},
   "source": [
    "### Containers"
   ]
  },
  {
   "cell_type": "markdown",
   "id": "9581ae6a-ac9d-4259-90b5-469742419ac7",
   "metadata": {},
   "source": [
    "Containers provide a much greater degree of isolation than virtual enviroments---including isolation of the file system and operating system configuration.\n",
    "\n",
    "[Docker](https://docs.docker.com) is the most well-known tool for building container images and running containers."
   ]
  },
  {
   "cell_type": "markdown",
   "id": "168f8168-d4c1-4133-9e91-da6d560b4787",
   "metadata": {},
   "source": [
    "To launch JupyterLab as a Docker container use\n",
    "\n",
    "```bash\n",
    "docker run --name jupyterlab -p 8898:8888 -d --rm quay.io/jupyter/datascience-notebook start-notebook.py --NotebookApp.token='my-token'   \n",
    "```\n",
    "\n",
    "Then browse to http://127.0.0.1:8898/lab?token=my-token."
   ]
  },
  {
   "cell_type": "markdown",
   "id": "d4ddf7f4-8e2b-46ac-ae86-be15e4bb457c",
   "metadata": {},
   "source": [
    "To stop the container use\n",
    "\n",
    "```bash\n",
    "docker stop jupyterlab\n",
    "```"
   ]
  },
  {
   "cell_type": "markdown",
   "id": "06145114-7a0d-413c-9c1e-d11c703ba67e",
   "metadata": {},
   "source": [
    "### Installing packages"
   ]
  },
  {
   "cell_type": "markdown",
   "id": "7ec600e1-61c9-4a37-8540-cc65ede66637",
   "metadata": {},
   "source": [
    "There are three ways of installing packages in JupyterLab.\n",
    "\n",
    "1. `pip install` the packages in the virtual environment before launching JupyterLab.\n",
    "2. Launch an integrated terminal in JupyterLab and use `pip install` packages.\n",
    "3. Execute `!pip install ...` in a notebook code cell (`!` launches a shell command)."
   ]
  },
  {
   "cell_type": "markdown",
   "id": "1304dd4a-bc01-44f3-b827-3a2533f17f86",
   "metadata": {},
   "source": [
    "## Artificial Intelligence and Machine Learning"
   ]
  },
  {
   "cell_type": "markdown",
   "id": "4ba256b6-49a2-4106-8c25-19d85c567f8d",
   "metadata": {},
   "source": [
    "Artificial intelligence (AI) has been around for decades, going through many different phases. Today it's almost synonymous with Machine Learning (ML)."
   ]
  },
  {
   "attachments": {},
   "cell_type": "markdown",
   "id": "b1823a9e-e5c7-437c-88b2-db16faa767f0",
   "metadata": {},
   "source": [
    "> A year spent in artificial intelligence is enough to make one believe in God.\n",
    "\n",
    "-- Alan Perlis"
   ]
  },
  {
   "cell_type": "markdown",
   "id": "9f20f6f1-7277-4c93-8206-43e5ff13f69e",
   "metadata": {},
   "source": [
    "### What's the difference between AI and ML?"
   ]
  },
  {
   "cell_type": "markdown",
   "id": "2a691044-c11c-4912-9111-49a7b7d7a4bd",
   "metadata": {},
   "source": [
    "![AI vs ML](images/module1-ai-vs-ml.svg)"
   ]
  },
  {
   "cell_type": "markdown",
   "id": "e688c02c-bc14-4479-bc22-4a4ea6cd118d",
   "metadata": {},
   "source": [
    "### How would you define intelligence?"
   ]
  },
  {
   "cell_type": "markdown",
   "id": "4ac380fc-f274-4c63-a569-fa34ebb74c1a",
   "metadata": {},
   "source": [
    "- What's your definition of \"intelligence\"?\n",
    "- Are animals intelligent? All animals? Or only some?\n",
    "- How would you determine if an alien was an intelligent lifeform?\n",
    "- Do we even need a definition of intelligence?\n",
    "- Are you more intelligent than modern AI?"
   ]
  },
  {
   "cell_type": "markdown",
   "id": "2b94af05-ce43-4f9a-8471-300783ef5c76",
   "metadata": {},
   "source": [
    "### History of AI"
   ]
  },
  {
   "cell_type": "markdown",
   "id": "cb7cb067-292a-47f8-b0ae-276e2e7940ed",
   "metadata": {},
   "source": [
    "![History of AI](images/module1-history-of-ai.svg)"
   ]
  },
  {
   "cell_type": "markdown",
   "id": "b2c655d3-67cd-4ed6-85db-d8c017ffa688",
   "metadata": {},
   "source": [
    "### Definitions of AI"
   ]
  },
  {
   "attachments": {},
   "cell_type": "markdown",
   "id": "49d1713a-9e03-432b-8389-4b58907700f5",
   "metadata": {},
   "source": [
    "The term ”Artificial Intelligence” was defined by John McCarthy in 1955.\n",
    "\n",
    "> ...the science and engineering of making intelligent machines...\n",
    "\n",
    "-- John McCarthy\n",
    "\n",
    "> ...the science of making machines do things that would require intelligence if done by men.\n",
    "    \n",
    "-- Marvin Minsky, AI pioneer\n",
    "\n",
    "> ...the science of making machines smart\n",
    "                \n",
    "-- Demis Hassabis, DeepMind\n",
    "\n",
    "> ...a computerized system that exhibits behavior that is commonly thought of as requiring intelligence.\\\n",
    "\n",
    "-- US Government\n",
    "\n",
    "> ...anything a machine does to respond to its environment to maximize its chances of success.\n",
    "\n",
    "-- Steven Struhl, author\n",
    "\n",
    "> ...the study of agents that receive percepts from the environment and perform actions.\n",
    "\n",
    "-- Peter Norvig and Stuart Russell, computer scientists\n",
    "\n",
    "> ...whatever hasn’t been done yet\n",
    "\n",
    "-- Larry Tesler, computer scientist"
   ]
  },
  {
   "cell_type": "markdown",
   "id": "130f50ea-3f35-4e0d-b531-10c610512ded",
   "metadata": {},
   "source": [
    "> When you're fundraising, it's AI  \n",
    "> When you're hiring, it's ML  \n",
    "> When you're specifying, it's linear regression  \n",
    "> When you're implementing, it's if-then  \n",
    "> When you're debugging, it's printf()  \n",
    "\n",
    "-- Baron Schwartz"
   ]
  },
  {
   "cell_type": "markdown",
   "id": "602a4d32-583e-41c2-830f-235003201f00",
   "metadata": {},
   "source": [
    "### The economics of prediction"
   ]
  },
  {
   "cell_type": "markdown",
   "id": "11951e29-2af2-4c9a-ac00-f94cdf8c8ef2",
   "metadata": {},
   "source": [
    "Deep Learning (neural networks) has been around for decades. Why has AI suddenly taken off?\n",
    "\n",
    "![The economics of predicition](images/module1-economics-of-prediction.png)"
   ]
  },
  {
   "cell_type": "markdown",
   "id": "422f194b-e6ce-4d7e-bf8a-27cbeb7af016",
   "metadata": {},
   "source": [
    "### AI as Intelligent Automation"
   ]
  },
  {
   "cell_type": "markdown",
   "id": "ec59dfff-a454-4add-8b5a-f50468ef9cbd",
   "metadata": {},
   "source": [
    "Another way to look at AI is as automated decision-making.\n",
    "\n",
    "![Intelligent Automation](images/module1-intelligent-automation.png)"
   ]
  },
  {
   "cell_type": "markdown",
   "id": "b7bbcc66-c023-4105-a746-76053dd69d47",
   "metadata": {},
   "source": [
    "### Artificial General Intelligence"
   ]
  },
  {
   "cell_type": "markdown",
   "id": "c3c7feab-9378-4b47-9709-3fc5aa5453b4",
   "metadata": {},
   "source": [
    "- Displays a similar type of general intelligence to humans\n",
    "  - We’ll know it when we see it\n",
    "- Maybe requires consciousness/sentience\n",
    "- Ability to learn\n",
    "- Not tied to specific tasks\n",
    "- Reacts appropriately to novel situations\n",
    "- Acts based on current context and its relationship with its environment\n",
    "- Stages of AI are\n",
    "  - Narrow AI\n",
    "  - General AI\n",
    "  - Super AI\n",
    "- After 80 years, we are still at the first stage"
   ]
  },
  {
   "cell_type": "markdown",
   "id": "35531cd6-1c79-4ec2-9c24-e90450a42d82",
   "metadata": {},
   "source": [
    "### What AI is _not_"
   ]
  },
  {
   "cell_type": "markdown",
   "id": "a9e680aa-b8d2-489a-a2a9-3f52f88867ea",
   "metadata": {},
   "source": [
    "- Alive\n",
    "- Robots and androids\n",
    "- An existential threat\n",
    "  - No-one is building Skynet\n",
    "- Independent\n",
    "  - Humans are very much in the loop\n",
    "- A single technology\n",
    "  - It's a collection of specialisations\n",
    "- Intelligent\n",
    "  - At least not in the way we'd recognise intelligence in others and other species"
   ]
  },
  {
   "cell_type": "markdown",
   "id": "b46100bb-ab08-485e-a828-a2f3edd6c0a9",
   "metadata": {},
   "source": [
    "### Where does Generative AI struggle?"
   ]
  },
  {
   "cell_type": "markdown",
   "id": "34145e79-9c6d-482b-96be-13d505687b98",
   "metadata": {},
   "source": [
    "Generative AI tends to struggle with tasks that are novel or involve reasoning.\n",
    "\n",
    "Let's try asking AI some hard questions..."
   ]
  },
  {
   "cell_type": "markdown",
   "id": "48302872-213d-4c0a-bb72-1c5a18e88492",
   "metadata": {},
   "source": [
    "### Applications of AI"
   ]
  },
  {
   "cell_type": "markdown",
   "id": "5ab52478-1763-4241-ada4-53c0926a52bb",
   "metadata": {},
   "source": [
    "- Manufacturing robots\n",
    "- Self-driving cars\n",
    "- Smart assistants\n",
    "- Healthcare management\n",
    "- Automated financial investing\n",
    "- Virtual travel booking agent\n",
    "- Social media monitoring\n",
    "- Marketing chatbots\n",
    "- Language translation\n",
    "- Image recognition"
   ]
  },
  {
   "cell_type": "markdown",
   "id": "887e0871-812b-4312-8a26-10be7e752291",
   "metadata": {},
   "source": [
    "### Ethical considerations"
   ]
  },
  {
   "attachments": {},
   "cell_type": "markdown",
   "id": "6db3ac6b-cebd-4073-9fc8-d9e7e35456e0",
   "metadata": {},
   "source": [
    "> AI doesn’t have to be evil to destroy humanity---if AI has a goal and humanity just happens to come in the way, it will destroy humanity as a matter of course without even thinking about it, no hard feelings.  \n",
    "\n",
    "-- Elon Musk"
   ]
  },
  {
   "cell_type": "markdown",
   "id": "1615b9ae-9406-4cb6-a7bd-d278d15d1849",
   "metadata": {},
   "source": [
    "![Trolley problem](images/module1-trolley-problem.png)\n",
    "\n",
    "https://neal.fun/absurd-trolley-problems/"
   ]
  },
  {
   "cell_type": "markdown",
   "id": "6261a082-c47a-4604-98ed-5cf6511d685d",
   "metadata": {},
   "source": [
    "## ML"
   ]
  },
  {
   "cell_type": "markdown",
   "id": "eebf0e8d-2a34-4ae0-bb83-e0c5fb285858",
   "metadata": {},
   "source": [
    "In ML we use computers to learn rules/algorithms from data.\n",
    "\n",
    "It's basically statistical correlation, or pattern matching.\n",
    "\n",
    "It turns out that this can be very effective, when executed at scale, but it does have limitations.\n",
    "\n",
    "![Machine Learning](https://imgs.xkcd.com/comics/machine_learning.png)\n",
    "\n",
    "https://xkcd.com/1838"
   ]
  },
  {
   "cell_type": "markdown",
   "id": "4644f332-1059-4ba7-8d31-e32606b8e3c8",
   "metadata": {},
   "source": [
    "### Supervised learning"
   ]
  },
  {
   "cell_type": "markdown",
   "id": "644ac706-088c-416e-bb94-3b532c75fdd6",
   "metadata": {},
   "source": [
    "In supervised learning, the machine learns by looking at historial outcomes.\n",
    "\n",
    "![Supervised learning](images/module1-supervised-learning.png)"
   ]
  },
  {
   "cell_type": "markdown",
   "id": "6ed6f8ce-2d55-4c99-a9f7-207fdb1e678d",
   "metadata": {},
   "source": [
    "### Regression"
   ]
  },
  {
   "cell_type": "markdown",
   "id": "e4152457-68a2-40ad-b39e-a84e4f066f70",
   "metadata": {},
   "source": [
    "Regression analysis predicts values (magnitudes).\n",
    "\n",
    "![Regression](images/module1-regression.png)"
   ]
  },
  {
   "cell_type": "markdown",
   "id": "e48fd132-2830-4575-b7a7-93e4c0238d1d",
   "metadata": {},
   "source": [
    "### Classification"
   ]
  },
  {
   "cell_type": "markdown",
   "id": "6deb4447-ac6a-4725-bd91-6ecf9d4206a8",
   "metadata": {},
   "source": [
    "Classification algorithms attempt to assign observations to one of a number of classes.\n",
    "\n",
    "![Penguin scatterplot](images/module1-penguin-scatterplot.png)"
   ]
  },
  {
   "cell_type": "code",
   "execution_count": null,
   "id": "60e8fa9a-e0b0-4d92-9e93-f3911e101c8c",
   "metadata": {
    "scrolled": true
   },
   "outputs": [],
   "source": [
    "import matplotlib.pyplot as plt\n",
    "import polars as pl\n",
    "from sklearn.model_selection import train_test_split\n",
    "from sklearn.tree import DecisionTreeClassifier, plot_tree\n",
    "\n",
    "penguin_df = pl.read_csv(\"data/penguins.csv\").drop_nulls()\n",
    "\n",
    "features_df = penguin_df.select(\n",
    "    [\"bill_length_mm\", \"bill_depth_mm\", \"flipper_length_mm\", \"body_mass_g\"]\n",
    ")\n",
    "\n",
    "target_df = penguin_df.select(\"species\")\n",
    "\n",
    "SEED = 123\n",
    "\n",
    "feature_train_df, feature_test_df, target_train_df, target_test_df = train_test_split(\n",
    "    features_df, target_df, test_size=0.30, random_state=SEED\n",
    ")\n",
    "\n",
    "classifier = DecisionTreeClassifier(max_depth=3, random_state=SEED).fit(\n",
    "    feature_train_df, target_train_df\n",
    ")\n",
    "\n",
    "class_names = sorted(penguin_df[\"species\"].unique())\n",
    "\n",
    "plt.figure(figsize=(10, 10), dpi=300)\n",
    "plot_tree(\n",
    "    classifier, feature_names=features_df.columns, class_names=class_names, filled=True\n",
    ")\n",
    "plt.show()"
   ]
  },
  {
   "cell_type": "markdown",
   "id": "79b2269f-d452-4aa1-b183-be79df4bbaf5",
   "metadata": {},
   "source": [
    "### Unsupervised learning"
   ]
  },
  {
   "cell_type": "markdown",
   "id": "f6a4227b-c62c-47a6-8d21-f9884e18505f",
   "metadata": {},
   "source": [
    "In unsupervised learning, the machine learns about patterns in the data."
   ]
  },
  {
   "cell_type": "markdown",
   "id": "97f70988-c6ec-466e-873d-d7e75bcb3361",
   "metadata": {},
   "source": [
    "![Unsupervised learning](images/module1-unsupervised-learning.png)"
   ]
  },
  {
   "cell_type": "markdown",
   "id": "5c0f19dd-7a90-48e8-a4a7-76aa517754e1",
   "metadata": {},
   "source": [
    "### Cluster analysis"
   ]
  },
  {
   "cell_type": "markdown",
   "id": "8b433068-4076-4290-8a6e-d292549804c6",
   "metadata": {},
   "source": [
    "k-means clustering analysis is a popular unsupervised learning technique.\n",
    "\n",
    "![k-means](images/module1-k-means.png)"
   ]
  },
  {
   "cell_type": "code",
   "execution_count": null,
   "id": "823a329f-93c8-42cc-a0e4-e53619631293",
   "metadata": {},
   "outputs": [],
   "source": [
    "import numpy as np\n",
    "from sklearn.cluster import KMeans\n",
    "\n",
    "k_means = KMeans(3, n_init=\"auto\", random_state=SEED).fit(features_df.to_numpy())\n",
    "\n",
    "markers = (\"o\", \"s\", \"v\")\n",
    "species_map = {\"Adelie\": 0, \"Chinstrap\": 1, \"Gentoo\": 2}\n",
    "\n",
    "for cluster_id in (0, 1, 2):\n",
    "    cluster_df = penguin_df.with_columns(\n",
    "        pl.Series(k_means.labels_.tolist()).alias(\"cluster_id\"),\n",
    "    ).filter(\n",
    "        pl.col(\"cluster_id\") == cluster_id,\n",
    "    )\n",
    "\n",
    "    species_ids = np.array([species_map[species] for species in cluster_df[\"species\"]])\n",
    "    marker = markers[cluster_id]\n",
    "    label = f\"Cluster {cluster_id}\"\n",
    "\n",
    "    plt.scatter(\n",
    "        cluster_df[\"bill_length_mm\"],\n",
    "        cluster_df[\"bill_depth_mm\"],\n",
    "        c=species_ids,\n",
    "        cmap=\"viridis\",\n",
    "        edgecolor=None,\n",
    "        alpha=0.5,\n",
    "        marker=marker,\n",
    "        label=label,\n",
    "    )\n",
    "\n",
    "plt.legend()\n",
    "plt.show()"
   ]
  },
  {
   "cell_type": "markdown",
   "id": "21e15499-6354-4377-b645-8bc8a847ab87",
   "metadata": {},
   "source": [
    "## Deep Learning"
   ]
  },
  {
   "cell_type": "markdown",
   "id": "e8001a8b-6bc1-4e89-9c28-3c0687a8b686",
   "metadata": {},
   "source": [
    "Deep learning (or neural networks) represents the state-of-the-art in ML. They are powerful, but computationally expensive.\n",
    "\n",
    "![Deep learning](images/module1-deep-learning.png)"
   ]
  },
  {
   "cell_type": "markdown",
   "id": "2a1c33aa-5430-4d30-9765-4f55ebb40139",
   "metadata": {},
   "source": [
    "## Building an automated loan approval model"
   ]
  },
  {
   "cell_type": "markdown",
   "id": "c198ac72-b048-4496-9190-dca1ee39a682",
   "metadata": {},
   "source": [
    "Let's use a [loan approval dataset](https://www.kaggle.com/datasets/architsharma01/loan-approval-prediction-dataset) from Kaggle to build a loan approval classifier.\n",
    "\n",
    "We'll use a decision tree classifier."
   ]
  },
  {
   "cell_type": "markdown",
   "id": "ee1177be-8583-482d-b523-57ece05740aa",
   "metadata": {},
   "source": [
    "Load and review the data."
   ]
  },
  {
   "cell_type": "code",
   "execution_count": null,
   "id": "a0e80d77-a446-4a19-97d0-59650d42efe2",
   "metadata": {},
   "outputs": [],
   "source": [
    "loan_approval_df = pl.read_csv(\"data/loan-approval-dataset.csv\")\n",
    "\n",
    "loan_approval_df"
   ]
  },
  {
   "cell_type": "markdown",
   "id": "561691c0-3ba8-4fa6-891f-99379c3540cc",
   "metadata": {},
   "source": [
    "The CIBIL Score is a credit score.\n",
    "\n",
    "There are some categorical features that we'll need to convert to [dummy variables](https://en.wikipedia.org/wiki/Dummy_variable_(statistics))."
   ]
  },
  {
   "cell_type": "code",
   "execution_count": null,
   "id": "949dd5d0-ca5e-4172-a422-ed6d6259b372",
   "metadata": {},
   "outputs": [],
   "source": [
    "loan_approval_with_dummies_df = loan_approval_df.to_dummies(\n",
    "    [\"education\", \"self_employed\"], drop_first=True\n",
    ")\n",
    "\n",
    "loan_approval_with_dummies_df"
   ]
  },
  {
   "cell_type": "markdown",
   "id": "c1212ff4-5a21-4eca-9b51-80663f332582",
   "metadata": {},
   "source": [
    "Do we have a reasonable number of examples for each target class?"
   ]
  },
  {
   "cell_type": "code",
   "execution_count": null,
   "id": "164cbbb6-67c4-4734-857a-f2b909cf6b0f",
   "metadata": {},
   "outputs": [],
   "source": [
    "loan_approval_df.get_column(\"loan_status\").value_counts()"
   ]
  },
  {
   "cell_type": "markdown",
   "id": "8366d808-3a8a-466a-a413-72def9617070",
   "metadata": {},
   "source": [
    "For this simple example, we'll use all the features to predict the loan approval, apart from `loan_id` and `loan_status` (the target)."
   ]
  },
  {
   "cell_type": "code",
   "execution_count": null,
   "id": "fb1c34be-e06b-4a6c-a927-c36c1282cec0",
   "metadata": {},
   "outputs": [],
   "source": [
    "loan_approval_features_df = loan_approval_with_dummies_df.drop(\"loan_id\", \"loan_status\")\n",
    "\n",
    "loan_approval_target_df = loan_approval_df.select(\"loan_status\")\n",
    "\n",
    "SEED = 123\n",
    "\n",
    "(\n",
    "    loan_approval_feature_train_df,\n",
    "    loan_approval_feature_test_df,\n",
    "    loan_approval_target_train_df,\n",
    "    loan_approval_target_test_df,\n",
    ") = train_test_split(\n",
    "    loan_approval_features_df,\n",
    "    loan_approval_target_df,\n",
    "    test_size=0.30,\n",
    "    random_state=SEED,\n",
    ")"
   ]
  },
  {
   "cell_type": "markdown",
   "id": "000215a4-6ad5-48bb-81af-970457cce0ae",
   "metadata": {},
   "source": [
    "Scale the data so we're comparing apples with apples."
   ]
  },
  {
   "cell_type": "code",
   "execution_count": null,
   "id": "40c6e421-d6fb-43ec-b980-60aee7053440",
   "metadata": {},
   "outputs": [],
   "source": [
    "from sklearn.preprocessing import StandardScaler\n",
    "\n",
    "scaler = StandardScaler()\n",
    "\n",
    "loan_approval_feature_train_scaled_df = scaler.fit_transform(\n",
    "    loan_approval_feature_train_df\n",
    ")\n",
    "\n",
    "loan_approval_feature_test_scaled_df = scaler.fit_transform(\n",
    "    loan_approval_feature_test_df\n",
    ")"
   ]
  },
  {
   "cell_type": "markdown",
   "id": "28b40f1c-3acb-4bba-8b55-e24dcc4074e9",
   "metadata": {},
   "source": [
    "Generate the classifier, limiting the maximum depth of the tree to 4."
   ]
  },
  {
   "cell_type": "code",
   "execution_count": null,
   "id": "6cf611d6-8ccd-4858-9d68-93f31dd83836",
   "metadata": {},
   "outputs": [],
   "source": [
    "loan_approval_classifier = DecisionTreeClassifier(max_depth=4, random_state=SEED).fit(\n",
    "    loan_approval_feature_train_scaled_df, loan_approval_target_train_df\n",
    ")"
   ]
  },
  {
   "cell_type": "code",
   "execution_count": null,
   "id": "07e756a4-53f9-4e61-bcbb-32f824f23f33",
   "metadata": {},
   "outputs": [],
   "source": [
    "loan_approval_class_names = sorted(loan_approval_df[\"loan_status\"].unique())\n",
    "\n",
    "plt.figure(figsize=(10, 10), dpi=300)\n",
    "plot_tree(\n",
    "    loan_approval_classifier,\n",
    "    feature_names=loan_approval_features_df.columns,\n",
    "    class_names=loan_approval_class_names,\n",
    "    filled=True,\n",
    ")\n",
    "plt.show()"
   ]
  },
  {
   "cell_type": "markdown",
   "id": "5e6d8217-bd0e-4478-9f2d-29581d660369",
   "metadata": {},
   "source": [
    "Evaluate the model."
   ]
  },
  {
   "cell_type": "code",
   "execution_count": null,
   "id": "1716efe8-6237-4622-af67-2e63e78a37ae",
   "metadata": {},
   "outputs": [],
   "source": [
    "from sklearn.metrics import accuracy_score, classification_report\n",
    "\n",
    "loan_approval_predicted = loan_approval_classifier.predict(\n",
    "    loan_approval_feature_test_scaled_df\n",
    ")"
   ]
  },
  {
   "cell_type": "code",
   "execution_count": null,
   "id": "5c9759e7-46e3-4a08-b6ea-986f234354e2",
   "metadata": {},
   "outputs": [],
   "source": [
    "accuracy_score(loan_approval_target_test_df, loan_approval_predicted)"
   ]
  },
  {
   "cell_type": "code",
   "execution_count": null,
   "id": "779879a8-2ec6-4f6c-a2fe-6526f5716582",
   "metadata": {},
   "outputs": [],
   "source": [
    "print(classification_report(loan_approval_target_test_df, loan_approval_predicted))"
   ]
  }
 ],
 "metadata": {
  "kernelspec": {
   "display_name": "Python 3 (ipykernel)",
   "language": "python",
   "name": "python3"
  },
  "language_info": {
   "codemirror_mode": {
    "name": "ipython",
    "version": 3
   },
   "file_extension": ".py",
   "mimetype": "text/x-python",
   "name": "python",
   "nbconvert_exporter": "python",
   "pygments_lexer": "ipython3",
   "version": "3.11.10"
  }
 },
 "nbformat": 4,
 "nbformat_minor": 5
}
